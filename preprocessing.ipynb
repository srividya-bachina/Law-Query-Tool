{
 "cells": [
  {
   "cell_type": "code",
   "execution_count": 1,
   "metadata": {
    "colab": {
     "base_uri": "https://localhost:8080/",
     "height": 0
    },
    "id": "i1-RyoVl_t_5",
    "outputId": "a8cea484-41ec-4ca8-cbd6-ddd311ee0771"
   },
   "outputs": [
    {
     "name": "stderr",
     "output_type": "stream",
     "text": [
      "[nltk_data] Downloading package stopwords to\n",
      "[nltk_data]     C:\\Users\\bachi\\AppData\\Roaming\\nltk_data...\n",
      "[nltk_data]   Package stopwords is already up-to-date!\n",
      "[nltk_data] Downloading package wordnet to\n",
      "[nltk_data]     C:\\Users\\bachi\\AppData\\Roaming\\nltk_data...\n",
      "[nltk_data]   Package wordnet is already up-to-date!\n"
     ]
    }
   ],
   "source": [
    "import numpy as np\n",
    "import pandas as pd\n",
    "from tensorflow.keras.preprocessing.text import Tokenizer\n",
    "from tensorflow.keras.preprocessing.sequence import pad_sequences\n",
    "from nltk.corpus import stopwords\n",
    "from nltk.stem import WordNetLemmatizer\n",
    "import nltk\n",
    "nltk.download('stopwords')\n",
    "nltk.download('wordnet')\n",
    "import pandas as pd\n",
    "import os\n",
    "from concurrent.futures import ThreadPoolExecutor"
   ]
  },
  {
   "cell_type": "code",
   "execution_count": 2,
   "metadata": {
    "id": "yI3__FY9_t_-"
   },
   "outputs": [],
   "source": [
    "data_folder = r'C:\\Users\\bachi\\Desktop\\IR\\Data\\01 Legal Case Corpus\\cases-by-categories\\raw_cases[cases_39155]\\raw_cases[cases_39155]'\n",
    "df = pd.DataFrame({'Case_description': [], 'Case_Type': []})\n",
    "\n",
    "def read_case_file(file_path):\n",
    "    lines = []\n",
    "    with open(file_path, 'r', encoding='utf-8') as file:\n",
    "        for line in file:\n",
    "            lines.append(line.strip())\n",
    "    return lines\n",
    "\n",
    "def map_casetypes(folder_num):\n",
    "    new_dataframe = pd.DataFrame(columns=['Case_description', 'Case_Type'])\n",
    "    path = r'C:\\Users\\bachi\\Desktop\\IR\\Data\\01 Legal Case Corpus\\cases-by-categories\\raw_cases[cases_39155]\\raw_cases[cases_39155]'\n",
    "    #print(folder_num)\n",
    "    folder_path = os.path.join(path, str(folder_num))\n",
    "    if os.path.exists(folder_path):\n",
    "        for file_name in os.listdir(folder_path):\n",
    "            #print(file_name)\n",
    "            file_path = os.path.join(folder_path, file_name)\n",
    "            if os.path.isfile(file_path) and file_name.startswith('case') and file_name.endswith('.txt'):\n",
    "                descriptions = read_case_file(file_path)\n",
    "                case_description = ' '.join(descriptions)  # Assuming you want to concatenate lines into a single string\n",
    "                new_row = pd.Series({'Case_description': case_description, 'Case_Type': folder_num})\n",
    "                new_dataframe = pd.concat([new_dataframe,pd.DataFrame([new_row])], ignore_index=True)\n",
    "    return new_dataframe\n",
    "\n",
    "with ThreadPoolExecutor() as executor:\n",
    "    results = [result for result in executor.map(map_casetypes, range(1, 80)) if result is not None]\n",
    "\n",
    "# Concatenate the results into a single DataFrame\n",
    "data = pd.concat(results, ignore_index=True)\n"
   ]
  },
  {
   "cell_type": "code",
   "execution_count": 3,
   "metadata": {
    "colab": {
     "base_uri": "https://localhost:8080/",
     "height": 423
    },
    "id": "oxUdjAYW_t__",
    "outputId": "14443777-02e8-4917-ba90-69cca558118e"
   },
   "outputs": [
    {
     "data": {
      "text/html": [
       "<div>\n",
       "<style scoped>\n",
       "    .dataframe tbody tr th:only-of-type {\n",
       "        vertical-align: middle;\n",
       "    }\n",
       "\n",
       "    .dataframe tbody tr th {\n",
       "        vertical-align: top;\n",
       "    }\n",
       "\n",
       "    .dataframe thead th {\n",
       "        text-align: right;\n",
       "    }\n",
       "</style>\n",
       "<table border=\"1\" class=\"dataframe\">\n",
       "  <thead>\n",
       "    <tr style=\"text-align: right;\">\n",
       "      <th></th>\n",
       "      <th>Case_description</th>\n",
       "      <th>Case_Type</th>\n",
       "    </tr>\n",
       "  </thead>\n",
       "  <tbody>\n",
       "    <tr>\n",
       "      <th>0</th>\n",
       "      <td>Petitioner Jhonatan Acosta (“Acosta”) petition...</td>\n",
       "      <td>1</td>\n",
       "    </tr>\n",
       "    <tr>\n",
       "      <th>1</th>\n",
       "      <td>OPINION Anthony Araujo filed a complaint in th...</td>\n",
       "      <td>1</td>\n",
       "    </tr>\n",
       "    <tr>\n",
       "      <th>2</th>\n",
       "      <td>OPINION Robert Zimmerman was riding his motorc...</td>\n",
       "      <td>1</td>\n",
       "    </tr>\n",
       "    <tr>\n",
       "      <th>3</th>\n",
       "      <td>OPINION This case returns to us after the Supr...</td>\n",
       "      <td>1</td>\n",
       "    </tr>\n",
       "    <tr>\n",
       "      <th>4</th>\n",
       "      <td>OPINION OF THE COURT Haddrick Byrd, a prisoner...</td>\n",
       "      <td>1</td>\n",
       "    </tr>\n",
       "    <tr>\n",
       "      <th>...</th>\n",
       "      <td>...</td>\n",
       "      <td>...</td>\n",
       "    </tr>\n",
       "    <tr>\n",
       "      <th>39150</th>\n",
       "      <td>In this claim for benefits under the Black Lun...</td>\n",
       "      <td>78</td>\n",
       "    </tr>\n",
       "    <tr>\n",
       "      <th>39151</th>\n",
       "      <td>OPINION James Kea petitions for review of the ...</td>\n",
       "      <td>78</td>\n",
       "    </tr>\n",
       "    <tr>\n",
       "      <th>39152</th>\n",
       "      <td>Mining Energy, Inc., and its insurer, Old Repu...</td>\n",
       "      <td>78</td>\n",
       "    </tr>\n",
       "    <tr>\n",
       "      <th>39153</th>\n",
       "      <td>CSX Hotels, Incorporated, d/b/a The Greenbrier...</td>\n",
       "      <td>78</td>\n",
       "    </tr>\n",
       "    <tr>\n",
       "      <th>39154</th>\n",
       "      <td>OPINION On James Martin's application for blac...</td>\n",
       "      <td>78</td>\n",
       "    </tr>\n",
       "  </tbody>\n",
       "</table>\n",
       "<p>39155 rows × 2 columns</p>\n",
       "</div>"
      ],
      "text/plain": [
       "                                        Case_description Case_Type\n",
       "0      Petitioner Jhonatan Acosta (“Acosta”) petition...         1\n",
       "1      OPINION Anthony Araujo filed a complaint in th...         1\n",
       "2      OPINION Robert Zimmerman was riding his motorc...         1\n",
       "3      OPINION This case returns to us after the Supr...         1\n",
       "4      OPINION OF THE COURT Haddrick Byrd, a prisoner...         1\n",
       "...                                                  ...       ...\n",
       "39150  In this claim for benefits under the Black Lun...        78\n",
       "39151  OPINION James Kea petitions for review of the ...        78\n",
       "39152  Mining Energy, Inc., and its insurer, Old Repu...        78\n",
       "39153  CSX Hotels, Incorporated, d/b/a The Greenbrier...        78\n",
       "39154  OPINION On James Martin's application for blac...        78\n",
       "\n",
       "[39155 rows x 2 columns]"
      ]
     },
     "execution_count": 3,
     "metadata": {},
     "output_type": "execute_result"
    }
   ],
   "source": [
    "data"
   ]
  },
  {
   "cell_type": "code",
   "execution_count": 4,
   "metadata": {
    "colab": {
     "base_uri": "https://localhost:8080/",
     "height": 0
    },
    "id": "xJTikTF-_uAA",
    "outputId": "93eb8018-5ed7-4a70-89fc-864354dc9958"
   },
   "outputs": [
    {
     "name": "stdout",
     "output_type": "stream",
     "text": [
      "<class 'pandas.core.frame.DataFrame'>\n",
      "RangeIndex: 39155 entries, 0 to 39154\n",
      "Data columns (total 2 columns):\n",
      " #   Column            Non-Null Count  Dtype \n",
      "---  ------            --------------  ----- \n",
      " 0   Case_description  39155 non-null  object\n",
      " 1   Case_Type         39155 non-null  object\n",
      "dtypes: object(2)\n",
      "memory usage: 611.9+ KB\n"
     ]
    }
   ],
   "source": [
    "data.info()"
   ]
  },
  {
   "cell_type": "code",
   "execution_count": 5,
   "metadata": {
    "colab": {
     "base_uri": "https://localhost:8080/",
     "height": 363
    },
    "id": "Kn_WgVZ-_uAB",
    "outputId": "47d07adb-f194-4593-da2d-6843b8675427"
   },
   "outputs": [
    {
     "data": {
      "text/html": [
       "<div>\n",
       "<style scoped>\n",
       "    .dataframe tbody tr th:only-of-type {\n",
       "        vertical-align: middle;\n",
       "    }\n",
       "\n",
       "    .dataframe tbody tr th {\n",
       "        vertical-align: top;\n",
       "    }\n",
       "\n",
       "    .dataframe thead th {\n",
       "        text-align: right;\n",
       "    }\n",
       "</style>\n",
       "<table border=\"1\" class=\"dataframe\">\n",
       "  <thead>\n",
       "    <tr style=\"text-align: right;\">\n",
       "      <th></th>\n",
       "      <th>Case_description</th>\n",
       "      <th>Case_Type</th>\n",
       "    </tr>\n",
       "  </thead>\n",
       "  <tbody>\n",
       "    <tr>\n",
       "      <th>39145</th>\n",
       "      <td>Valeria Spencer (“Spencer”), the plaintiff-bel...</td>\n",
       "      <td>78</td>\n",
       "    </tr>\n",
       "    <tr>\n",
       "      <th>39146</th>\n",
       "      <td>Appellant, Foster Rawley, is an injured worker...</td>\n",
       "      <td>78</td>\n",
       "    </tr>\n",
       "    <tr>\n",
       "      <th>39147</th>\n",
       "      <td>Harold Munyan (“Munyan”), employee-appellant, ...</td>\n",
       "      <td>78</td>\n",
       "    </tr>\n",
       "    <tr>\n",
       "      <th>39148</th>\n",
       "      <td>Claimant Michael Falconi appeals from a judgme...</td>\n",
       "      <td>78</td>\n",
       "    </tr>\n",
       "    <tr>\n",
       "      <th>39149</th>\n",
       "      <td>OPINION Benjamin S. Reynolds (“Appellant”) app...</td>\n",
       "      <td>78</td>\n",
       "    </tr>\n",
       "    <tr>\n",
       "      <th>39150</th>\n",
       "      <td>In this claim for benefits under the Black Lun...</td>\n",
       "      <td>78</td>\n",
       "    </tr>\n",
       "    <tr>\n",
       "      <th>39151</th>\n",
       "      <td>OPINION James Kea petitions for review of the ...</td>\n",
       "      <td>78</td>\n",
       "    </tr>\n",
       "    <tr>\n",
       "      <th>39152</th>\n",
       "      <td>Mining Energy, Inc., and its insurer, Old Repu...</td>\n",
       "      <td>78</td>\n",
       "    </tr>\n",
       "    <tr>\n",
       "      <th>39153</th>\n",
       "      <td>CSX Hotels, Incorporated, d/b/a The Greenbrier...</td>\n",
       "      <td>78</td>\n",
       "    </tr>\n",
       "    <tr>\n",
       "      <th>39154</th>\n",
       "      <td>OPINION On James Martin's application for blac...</td>\n",
       "      <td>78</td>\n",
       "    </tr>\n",
       "  </tbody>\n",
       "</table>\n",
       "</div>"
      ],
      "text/plain": [
       "                                        Case_description Case_Type\n",
       "39145  Valeria Spencer (“Spencer”), the plaintiff-bel...        78\n",
       "39146  Appellant, Foster Rawley, is an injured worker...        78\n",
       "39147  Harold Munyan (“Munyan”), employee-appellant, ...        78\n",
       "39148  Claimant Michael Falconi appeals from a judgme...        78\n",
       "39149  OPINION Benjamin S. Reynolds (“Appellant”) app...        78\n",
       "39150  In this claim for benefits under the Black Lun...        78\n",
       "39151  OPINION James Kea petitions for review of the ...        78\n",
       "39152  Mining Energy, Inc., and its insurer, Old Repu...        78\n",
       "39153  CSX Hotels, Incorporated, d/b/a The Greenbrier...        78\n",
       "39154  OPINION On James Martin's application for blac...        78"
      ]
     },
     "execution_count": 5,
     "metadata": {},
     "output_type": "execute_result"
    }
   ],
   "source": [
    "data.tail(10)"
   ]
  },
  {
   "cell_type": "code",
   "execution_count": 6,
   "metadata": {
    "colab": {
     "base_uri": "https://localhost:8080/",
     "height": 0
    },
    "id": "ODnpvX1lNgIO",
    "outputId": "52101716-faff-48de-a16a-cd95f3e001bf"
   },
   "outputs": [
    {
     "name": "stdout",
     "output_type": "stream",
     "text": [
      "<class 'pandas.core.frame.DataFrame'>\n",
      "RangeIndex: 39155 entries, 0 to 39154\n",
      "Data columns (total 2 columns):\n",
      " #   Column            Non-Null Count  Dtype \n",
      "---  ------            --------------  ----- \n",
      " 0   Case_description  39155 non-null  object\n",
      " 1   Case_Type         39155 non-null  int32 \n",
      "dtypes: int32(1), object(1)\n",
      "memory usage: 459.0+ KB\n"
     ]
    }
   ],
   "source": [
    "data['Case_Type'] = data['Case_Type'].astype(int)\n",
    "data.info()"
   ]
  },
  {
   "cell_type": "code",
   "execution_count": 7,
   "metadata": {
    "colab": {
     "base_uri": "https://localhost:8080/",
     "height": 0
    },
    "id": "h2Jh9OIZ_uAD",
    "outputId": "9a075ff8-7d76-4eb4-9056-4702d8a5071b"
   },
   "outputs": [
    {
     "name": "stderr",
     "output_type": "stream",
     "text": [
      "[nltk_data] Downloading package omw-1.4 to\n",
      "[nltk_data]     C:\\Users\\bachi\\AppData\\Roaming\\nltk_data...\n",
      "[nltk_data]   Package omw-1.4 is already up-to-date!\n",
      "[nltk_data] Downloading package punkt to\n",
      "[nltk_data]     C:\\Users\\bachi\\AppData\\Roaming\\nltk_data...\n",
      "[nltk_data]   Unzipping tokenizers\\punkt.zip.\n"
     ]
    },
    {
     "data": {
      "text/plain": [
       "True"
      ]
     },
     "execution_count": 7,
     "metadata": {},
     "output_type": "execute_result"
    }
   ],
   "source": [
    "nltk.download('omw-1.4')\n",
    "nltk.download('punkt')\n"
   ]
  },
  {
   "cell_type": "code",
   "execution_count": 8,
   "metadata": {
    "colab": {
     "base_uri": "https://localhost:8080/",
     "height": 423
    },
    "id": "0etyQ7UnOZKw",
    "outputId": "5363b61d-1fef-4baa-c3d0-366b38126de6"
   },
   "outputs": [
    {
     "data": {
      "text/html": [
       "<div>\n",
       "<style scoped>\n",
       "    .dataframe tbody tr th:only-of-type {\n",
       "        vertical-align: middle;\n",
       "    }\n",
       "\n",
       "    .dataframe tbody tr th {\n",
       "        vertical-align: top;\n",
       "    }\n",
       "\n",
       "    .dataframe thead th {\n",
       "        text-align: right;\n",
       "    }\n",
       "</style>\n",
       "<table border=\"1\" class=\"dataframe\">\n",
       "  <thead>\n",
       "    <tr style=\"text-align: right;\">\n",
       "      <th></th>\n",
       "      <th>Case_description</th>\n",
       "      <th>Case_Type</th>\n",
       "      <th>processed_description</th>\n",
       "    </tr>\n",
       "  </thead>\n",
       "  <tbody>\n",
       "    <tr>\n",
       "      <th>0</th>\n",
       "      <td>Petitioner Jhonatan Acosta (“Acosta”) petition...</td>\n",
       "      <td>1</td>\n",
       "      <td>petitioner jhonatan acosta acosta petition cou...</td>\n",
       "    </tr>\n",
       "    <tr>\n",
       "      <th>1</th>\n",
       "      <td>OPINION Anthony Araujo filed a complaint in th...</td>\n",
       "      <td>1</td>\n",
       "      <td>opinion anthony araujo filed complaint united ...</td>\n",
       "    </tr>\n",
       "    <tr>\n",
       "      <th>2</th>\n",
       "      <td>OPINION Robert Zimmerman was riding his motorc...</td>\n",
       "      <td>1</td>\n",
       "      <td>opinion robert zimmerman riding motorcycle sum...</td>\n",
       "    </tr>\n",
       "    <tr>\n",
       "      <th>3</th>\n",
       "      <td>OPINION This case returns to us after the Supr...</td>\n",
       "      <td>1</td>\n",
       "      <td>opinion case return u supreme court review rey...</td>\n",
       "    </tr>\n",
       "    <tr>\n",
       "      <th>4</th>\n",
       "      <td>OPINION OF THE COURT Haddrick Byrd, a prisoner...</td>\n",
       "      <td>1</td>\n",
       "      <td>opinion court haddrick byrd prisoner filed pro...</td>\n",
       "    </tr>\n",
       "    <tr>\n",
       "      <th>...</th>\n",
       "      <td>...</td>\n",
       "      <td>...</td>\n",
       "      <td>...</td>\n",
       "    </tr>\n",
       "    <tr>\n",
       "      <th>39150</th>\n",
       "      <td>In this claim for benefits under the Black Lun...</td>\n",
       "      <td>78</td>\n",
       "      <td>claim benefit black lung benefit act act 30 we...</td>\n",
       "    </tr>\n",
       "    <tr>\n",
       "      <th>39151</th>\n",
       "      <td>OPINION James Kea petitions for review of the ...</td>\n",
       "      <td>78</td>\n",
       "      <td>opinion james kea petition review decision ord...</td>\n",
       "    </tr>\n",
       "    <tr>\n",
       "      <th>39152</th>\n",
       "      <td>Mining Energy, Inc., and its insurer, Old Repu...</td>\n",
       "      <td>78</td>\n",
       "      <td>mining energy insurer old republic insurance c...</td>\n",
       "    </tr>\n",
       "    <tr>\n",
       "      <th>39153</th>\n",
       "      <td>CSX Hotels, Incorporated, d/b/a The Greenbrier...</td>\n",
       "      <td>78</td>\n",
       "      <td>csx hotel incorporated greenbrier hotel greenb...</td>\n",
       "    </tr>\n",
       "    <tr>\n",
       "      <th>39154</th>\n",
       "      <td>OPINION On James Martin's application for blac...</td>\n",
       "      <td>78</td>\n",
       "      <td>opinion james martin application black lung be...</td>\n",
       "    </tr>\n",
       "  </tbody>\n",
       "</table>\n",
       "<p>39155 rows × 3 columns</p>\n",
       "</div>"
      ],
      "text/plain": [
       "                                        Case_description  Case_Type  \\\n",
       "0      Petitioner Jhonatan Acosta (“Acosta”) petition...          1   \n",
       "1      OPINION Anthony Araujo filed a complaint in th...          1   \n",
       "2      OPINION Robert Zimmerman was riding his motorc...          1   \n",
       "3      OPINION This case returns to us after the Supr...          1   \n",
       "4      OPINION OF THE COURT Haddrick Byrd, a prisoner...          1   \n",
       "...                                                  ...        ...   \n",
       "39150  In this claim for benefits under the Black Lun...         78   \n",
       "39151  OPINION James Kea petitions for review of the ...         78   \n",
       "39152  Mining Energy, Inc., and its insurer, Old Repu...         78   \n",
       "39153  CSX Hotels, Incorporated, d/b/a The Greenbrier...         78   \n",
       "39154  OPINION On James Martin's application for blac...         78   \n",
       "\n",
       "                                   processed_description  \n",
       "0      petitioner jhonatan acosta acosta petition cou...  \n",
       "1      opinion anthony araujo filed complaint united ...  \n",
       "2      opinion robert zimmerman riding motorcycle sum...  \n",
       "3      opinion case return u supreme court review rey...  \n",
       "4      opinion court haddrick byrd prisoner filed pro...  \n",
       "...                                                  ...  \n",
       "39150  claim benefit black lung benefit act act 30 we...  \n",
       "39151  opinion james kea petition review decision ord...  \n",
       "39152  mining energy insurer old republic insurance c...  \n",
       "39153  csx hotel incorporated greenbrier hotel greenb...  \n",
       "39154  opinion james martin application black lung be...  \n",
       "\n",
       "[39155 rows x 3 columns]"
      ]
     },
     "execution_count": 8,
     "metadata": {},
     "output_type": "execute_result"
    }
   ],
   "source": [
    "\n",
    "def preprocess_text(text):\n",
    "    tokens = nltk.word_tokenize(text)\n",
    "    stop_words = set(stopwords.words('english'))\n",
    "    lemmatizer = WordNetLemmatizer()\n",
    "    \n",
    "    # Ensure each token is alphanumeric and not in stop words\n",
    "    words = [token.lower() for token in tokens if token.isalnum() and token.lower() not in stop_words]\n",
    "    \n",
    "    # Lemmatize each word\n",
    "    words = [lemmatizer.lemmatize(word) for word in words]\n",
    "    \n",
    "    return ' '.join(words)\n",
    "\n",
    "data['processed_description'] = data['Case_description'].apply(preprocess_text)\n",
    "data"
   ]
  },
  {
   "cell_type": "code",
   "execution_count": 10,
   "metadata": {
    "colab": {
     "base_uri": "https://localhost:8080/",
     "height": 0
    },
    "id": "fFihoRduQS1F",
    "outputId": "dd0e506a-9d71-4e16-907a-2372751669e6"
   },
   "outputs": [
    {
     "name": "stderr",
     "output_type": "stream",
     "text": [
      "C:\\Users\\bachi\\AppData\\Local\\Temp\\ipykernel_14896\\2329356449.py:6: ParserWarning: Falling back to the 'python' engine because the 'c' engine does not support regex separators (separators > 1 char and different from '\\s+' are interpreted as regex); you can avoid this warning by specifying engine='python'.\n",
      "  class_names = pd.read_csv(file_path, delimiter='->', names = column_names)\n"
     ]
    },
    {
     "name": "stdout",
     "output_type": "stream",
     "text": [
      "    Case_Type                      Case_Type_str\n",
      "0           1                 Administrative Law\n",
      "1           2                          Admiralty\n",
      "2           3                        Agriculture\n",
      "3           4   Antitrust &amp; Trade Regulation\n",
      "4           5                    Attorney's Fees\n",
      "..        ...                                ...\n",
      "71         74           Tax-exempt Organizations\n",
      "72         75                     Transportation\n",
      "73         76                          Water Law\n",
      "74         77                 White Collar Crime\n",
      "75         78              Workers' Compensation\n",
      "\n",
      "[76 rows x 2 columns]\n"
     ]
    }
   ],
   "source": [
    "file_path = r\"C:\\Users\\bachi\\Desktop\\IR\\Data\\01 Legal Case Corpus\\cases-by-categories\\Map.txt\"\n",
    "\n",
    "column_names = ['Case_Type', 'Case_Type_str']\n",
    "\n",
    "# Load data into a DataFrame\n",
    "class_names = pd.read_csv(file_path, delimiter='->', names = column_names)\n",
    "\n",
    "# Display the DataFrame\n",
    "print(class_names)"
   ]
  },
  {
   "cell_type": "code",
   "execution_count": 11,
   "metadata": {
    "colab": {
     "base_uri": "https://localhost:8080/",
     "height": 423
    },
    "id": "iCwX_kNl_uAD",
    "outputId": "15a1900c-0ea6-4405-c315-81aeb9738566"
   },
   "outputs": [
    {
     "data": {
      "text/html": [
       "<div>\n",
       "<style scoped>\n",
       "    .dataframe tbody tr th:only-of-type {\n",
       "        vertical-align: middle;\n",
       "    }\n",
       "\n",
       "    .dataframe tbody tr th {\n",
       "        vertical-align: top;\n",
       "    }\n",
       "\n",
       "    .dataframe thead th {\n",
       "        text-align: right;\n",
       "    }\n",
       "</style>\n",
       "<table border=\"1\" class=\"dataframe\">\n",
       "  <thead>\n",
       "    <tr style=\"text-align: right;\">\n",
       "      <th></th>\n",
       "      <th>processed_description</th>\n",
       "      <th>Case_Type_str</th>\n",
       "    </tr>\n",
       "  </thead>\n",
       "  <tbody>\n",
       "    <tr>\n",
       "      <th>0</th>\n",
       "      <td>petitioner jhonatan acosta acosta petition cou...</td>\n",
       "      <td>Administrative Law</td>\n",
       "    </tr>\n",
       "    <tr>\n",
       "      <th>1</th>\n",
       "      <td>opinion anthony araujo filed complaint united ...</td>\n",
       "      <td>Administrative Law</td>\n",
       "    </tr>\n",
       "    <tr>\n",
       "      <th>2</th>\n",
       "      <td>opinion robert zimmerman riding motorcycle sum...</td>\n",
       "      <td>Administrative Law</td>\n",
       "    </tr>\n",
       "    <tr>\n",
       "      <th>3</th>\n",
       "      <td>opinion case return u supreme court review rey...</td>\n",
       "      <td>Administrative Law</td>\n",
       "    </tr>\n",
       "    <tr>\n",
       "      <th>4</th>\n",
       "      <td>opinion court haddrick byrd prisoner filed pro...</td>\n",
       "      <td>Administrative Law</td>\n",
       "    </tr>\n",
       "    <tr>\n",
       "      <th>...</th>\n",
       "      <td>...</td>\n",
       "      <td>...</td>\n",
       "    </tr>\n",
       "    <tr>\n",
       "      <th>39150</th>\n",
       "      <td>claim benefit black lung benefit act act 30 we...</td>\n",
       "      <td>Workers' Compensation</td>\n",
       "    </tr>\n",
       "    <tr>\n",
       "      <th>39151</th>\n",
       "      <td>opinion james kea petition review decision ord...</td>\n",
       "      <td>Workers' Compensation</td>\n",
       "    </tr>\n",
       "    <tr>\n",
       "      <th>39152</th>\n",
       "      <td>mining energy insurer old republic insurance c...</td>\n",
       "      <td>Workers' Compensation</td>\n",
       "    </tr>\n",
       "    <tr>\n",
       "      <th>39153</th>\n",
       "      <td>csx hotel incorporated greenbrier hotel greenb...</td>\n",
       "      <td>Workers' Compensation</td>\n",
       "    </tr>\n",
       "    <tr>\n",
       "      <th>39154</th>\n",
       "      <td>opinion james martin application black lung be...</td>\n",
       "      <td>Workers' Compensation</td>\n",
       "    </tr>\n",
       "  </tbody>\n",
       "</table>\n",
       "<p>39155 rows × 2 columns</p>\n",
       "</div>"
      ],
      "text/plain": [
       "                                   processed_description  \\\n",
       "0      petitioner jhonatan acosta acosta petition cou...   \n",
       "1      opinion anthony araujo filed complaint united ...   \n",
       "2      opinion robert zimmerman riding motorcycle sum...   \n",
       "3      opinion case return u supreme court review rey...   \n",
       "4      opinion court haddrick byrd prisoner filed pro...   \n",
       "...                                                  ...   \n",
       "39150  claim benefit black lung benefit act act 30 we...   \n",
       "39151  opinion james kea petition review decision ord...   \n",
       "39152  mining energy insurer old republic insurance c...   \n",
       "39153  csx hotel incorporated greenbrier hotel greenb...   \n",
       "39154  opinion james martin application black lung be...   \n",
       "\n",
       "                Case_Type_str  \n",
       "0          Administrative Law  \n",
       "1          Administrative Law  \n",
       "2          Administrative Law  \n",
       "3          Administrative Law  \n",
       "4          Administrative Law  \n",
       "...                       ...  \n",
       "39150   Workers' Compensation  \n",
       "39151   Workers' Compensation  \n",
       "39152   Workers' Compensation  \n",
       "39153   Workers' Compensation  \n",
       "39154   Workers' Compensation  \n",
       "\n",
       "[39155 rows x 2 columns]"
      ]
     },
     "execution_count": 11,
     "metadata": {},
     "output_type": "execute_result"
    }
   ],
   "source": [
    "merged_df = pd.merge(data, class_names, on='Case_Type')\n",
    "preprocessed_df = merged_df.drop('Case_description', axis=1)\n",
    "preprocessed_df = preprocessed_df.drop('Case_Type', axis=1)\n",
    "preprocessed_df"
   ]
  },
  {
   "cell_type": "code",
   "execution_count": 12,
   "metadata": {
    "colab": {
     "base_uri": "https://localhost:8080/",
     "height": 0
    },
    "id": "S6-f9ZPt_uAE",
    "outputId": "46b45968-003b-4306-f1be-3fe40d1a2fa8"
   },
   "outputs": [
    {
     "name": "stdout",
     "output_type": "stream",
     "text": [
      "[[196, 181413, 7521, 7521, 116, 1, 41, 32, 102, 673, 28, 381, 2345, 673, 98, 467, 32, 7521, 3997, 805, 535, 188, 21, 2, 72, 809, 10539, 673, 3508, 24, 2143, 1827, 208, 176, 3467, 208, 352, 381, 467, 463, 162, 142, 467, 2290, 486, 867, 381, 463, 4744, 2345, 467, 32, 361, 1247, 1035, 8857, 278, 111, 1108, 1090, 116, 320, 485, 651, 2784, 650, 9297, 7521, 89, 1428, 2390, 7451, 3262, 1444, 3311, 21, 2, 650, 11179, 45, 112, 432, 946, 7521, 309, 2550, 1051, 1399, 5420, 465, 21, 2, 2629, 673, 48, 7296, 91, 99, 556, 13, 1499, 809, 21, 2, 7130, 1164, 555, 896, 283, 6341, 89, 1428, 13, 487, 2274, 266, 555, 1121, 7296, 154, 99, 159, 2274, 266, 1119, 149, 7521, 942, 416, 84, 95, 1292, 114, 981, 9816, 247, 5481, 272, 3647, 535, 188, 21, 2, 72, 809, 467, 7521, 524, 184, 206, 256, 12886, 621, 809, 21, 2, 150, 381, 1240, 809, 447, 721, 535, 3180, 188, 2997, 90, 2199, 558, 4, 2629, 56, 443, 6199, 117, 533, 49, 673, 30, 73, 113882, 647, 3573, 4220, 381, 946, 6158, 1564, 1060, 40, 126, 955, 283, 7521, 867, 4504, 256, 1119, 7521, 13, 7521, 1785, 2936, 113, 467, 481, 542, 1314, 91, 58, 809, 21, 2, 7521, 556, 799, 666, 6537, 7521, 282, 481, 113, 113, 316, 343, 21, 2, 1060, 6341, 555, 896, 283, 408, 7521, 142, 6537, 775, 10050, 40, 17834, 61453, 17834, 61453, 800, 2274, 5081, 17834, 61453, 288, 12242, 7521, 2751, 25112, 9297, 17834, 61453, 821, 1895, 790, 17834, 61453, 799, 2120, 452, 1072, 765, 7521, 2120, 7521, 282, 2191, 78416, 6537, 821, 3622, 2335, 5172, 3831, 4046, 7267, 121, 207, 854, 5081, 150, 2335, 5172, 1072, 2120, 256, 17834, 61453, 799, 2530, 18956, 142, 7521, 128, 17056, 7130, 6841, 95, 6007, 2335, 5172, 12242, 673, 369, 910, 369, 7521, 256, 2022, 7521, 3039, 369, 5109, 2335, 5172, 333, 232, 2335, 5172, 3831, 7521, 3016, 7130, 3262, 7521, 128, 17056, 3262, 666, 11880, 15308, 7521, 6470, 1444, 40, 32525, 2751, 7521, 282, 3016, 5172, 64, 2120, 256, 103, 3016, 910, 1672, 666, 95, 6007, 7521, 799, 570, 142, 7521, 10157, 738, 21, 2, 394, 6007, 283, 7521, 282, 36, 2210, 2120, 2933, 1119, 821, 7296, 1406, 99, 1051, 1399, 254, 113, 467, 7521, 556, 1375, 1611, 1930, 691, 1035, 8857, 1291, 6736, 303, 8007, 809, 21, 2, 7130, 555, 283, 35, 42, 13, 42, 309, 206, 7521, 809, 21, 2, 283, 142, 45, 422, 374, 1447, 5331, 503, 119, 21, 2, 1852, 3219, 344, 14985, 9270, 5944, 256, 3523, 5331, 142, 5331, 282, 4985, 3647, 307, 67, 61, 7521, 397, 266, 7, 1276, 256, 3814, 316, 2331, 535, 809, 21, 2, 266, 902, 12826, 2953, 916, 16379, 343, 307, 12, 1364, 266, 39, 1207, 343, 920, 7521, 2274, 5331, 284, 2274, 332, 930, 1344, 261, 151, 343, 21, 2, 591, 283, 533, 7521, 564, 22517, 117, 51273, 4046, 2274, 5331, 1294, 2274, 14, 19578, 121, 22517, 904, 1048, 2274, 47, 904, 3725, 59, 181, 7521, 2274, 1366, 3647, 307, 5331, 11479, 618, 2474, 358, 7521, 39, 179, 2274, 8007, 809, 21, 2, 5331, 12, 984, 14, 296, 2274, 99, 7521, 795, 92595, 9297, 556, 2, 247, 61, 3195, 99, 983, 14, 482, 296, 444, 1291, 5331, 128, 838, 603, 7521, 7, 1256, 188, 9297, 296, 194, 2274, 44, 5331, 2175, 734, 15, 1428, 151, 7, 87, 981, 92, 194, 2274, 296, 9270, 142, 9270, 282, 955, 5509, 7521, 266, 5081, 6315, 59, 181, 13028, 223, 5509, 2331, 179, 266, 16168, 56594, 301, 5509, 7521, 266, 56594, 5348, 773, 9270, 316, 5509, 7521, 5081, 1643, 56594, 301, 1472, 181414, 2502, 5509, 19817, 42604, 3230, 953, 3419, 5509, 2975, 361, 2415, 9270, 12, 11479, 7521, 2274, 1272, 2274, 1961, 2274, 332, 16501, 1672, 18817, 397, 22517, 117, 44, 7, 42173, 1441, 18595, 13028, 1316, 3419, 256, 150, 16010, 1672, 345, 2274, 7521, 3913, 709, 42174, 301, 9270, 39, 8452, 1301, 885, 7521, 117, 59, 181, 9270, 282, 7521, 22517, 904, 5793, 4046, 2274, 1301, 117, 21390, 467, 381, 32, 467, 284, 7521, 141, 318, 3814, 188, 21, 2, 254, 137, 955, 176, 8021, 101, 30, 467, 1364, 7521, 142, 6736, 799, 7521, 17834, 61453, 1391, 361, 1247, 7521, 8857, 1291, 223, 262, 4566, 7521, 142, 799, 3001, 7521, 282, 17834, 61453, 821, 12777, 702, 2751, 55, 1822, 151, 799, 934, 467, 2926, 42, 58, 7521, 809, 21, 2, 4282, 42, 13, 7521, 2274, 179, 1278, 21, 2, 591, 283, 1073, 7521, 39, 179, 2274, 1278, 21, 2, 171, 335, 769, 555, 283, 467, 12, 1364, 166, 556, 9270, 990, 283, 21, 2, 12183, 92595, 5509, 7521, 5081, 1433, 13, 6736, 42, 58, 7521, 277, 2274, 296, 283, 96, 9297, 296, 123, 467, 1364, 3353, 15, 151, 7521, 1060, 7, 1256, 981, 92, 194, 2274, 486, 467, 4282, 42, 13, 955, 5509, 7521, 266, 5081, 6315, 96, 1550, 15, 7521, 8007, 809, 59, 13, 467, 284, 7521, 141, 758, 8007, 809, 21, 2, 555, 896, 7521, 986, 467, 139, 3997, 381, 381, 700, 467, 32, 765, 4414, 6980, 42, 13, 381, 158, 467, 295, 463, 65, 7521, 142, 2290, 381, 67, 191, 467, 32, 1492, 1247, 7521, 1035, 8857, 278, 669, 162, 80, 467, 173, 7521, 116, 248, 41, 176, 2690, 35, 30, 167, 181, 75, 41, 940, 244, 41, 97, 320, 65, 152, 1249, 162, 3047, 211, 13, 106947, 1512, 4906, 439, 675, 298, 75, 3514, 32, 741, 79, 211, 2766, 13, 61, 268, 25222, 2218, 4361, 341, 578, 298, 229, 375, 2040, 3094, 3056, 1282, 5040, 1516, 1416, 915, 381, 509, 2185, 8652, 2345, 32, 467, 41, 381, 32, 182, 631, 467, 34120, 1512, 5160, 1511, 1137, 298, 229, 83099, 6133, 2920, 1975, 1904, 298, 35, 848, 1249, 162, 2143, 1827, 208, 805, 535, 188, 21, 2, 72, 809, 10539, 176, 3467, 208, 7521, 949, 257, 1414, 175, 2267, 13, 3814, 188, 21, 2, 254, 137, 955, 8, 8021, 101, 30, 35, 7521, 352, 467, 463, 464, 7521, 142, 2290, 1286, 19267, 1247, 5331, 9270, 422, 2466, 805, 535, 2290, 142, 434, 1027, 14, 3053, 257, 2129, 1674, 1729, 416, 13, 4828, 19320, 6997, 10103, 14, 243, 4710, 6953, 7893, 2569, 1709, 2139, 298, 174, 143, 467, 381, 162, 59, 3074, 13, 238, 1369, 7521, 2120, 256, 489, 467, 1583, 903, 16197, 678, 255, 16608, 790, 2968, 196, 8, 13, 487, 211, 142, 166, 2402, 7521, 2120, 256, 10787, 183, 117, 563, 5335, 7521, 4, 343, 21, 2, 555, 283, 152, 296, 2274, 99, 13, 232, 151, 179, 2274, 1278, 21, 2, 591, 283, 7521, 155, 6506, 1148, 35962, 106948, 3564, 5903, 2645, 3083, 298, 467, 381, 2251, 8589, 7521, 10556, 58, 606, 2968, 161, 270, 191, 489, 467, 910, 7521, 338, 488, 1155, 1031, 2933, 254, 542, 113, 467, 42, 5513, 673, 369, 1344, 5509, 332, 7521, 266, 3256, 369, 438, 7289, 4461, 42, 67, 369, 556, 799, 20904, 919, 1303, 3284, 3673, 7521, 283, 467, 23, 32, 7521, 2433, 467, 381, 1002, 2968, 4417, 6537, 821, 1895, 2120, 97, 2751, 10332, 151, 799, 434, 1027, 2968, 572, 7, 921, 91, 65, 7521, 3997, 5, 106947, 4906, 647, 4493, 2968, 790, 467, 444, 2968, 34120, 5160, 1137, 4493, 196, 347, 2974, 967, 1794, 395, 143, 1417, 1308, 467, 2251, 1002, 349, 677, 2968, 2386, 376, 211, 13, 7521, 2933, 1119, 5, 6953, 2569, 2139, 2968, 5498, 14, 3174, 423, 1417, 16824, 339, 44, 2916, 160, 7521, 12, 352, 343, 21, 2, 6341, 1155, 809, 709, 256, 867, 142, 570, 666, 6537, 303, 1581, 149, 1, 11526, 7521, 58, 428, 23, 691, 360, 7521, 6341, 142, 1403, 6537, 666, 1276, 1072, 2120, 2933, 7521, 1060, 40, 885, 5808, 257, 552, 809, 21, 2, 467, 381, 195, 1155, 6674, 2974, 4766, 4, 1035, 8857, 1291, 692, 7521, 2433, 381, 4744, 2345, 467, 32, 2070, 1035, 8857, 1291, 7521, 58, 72, 324, 381, 145, 1294, 1148, 162, 467, 2251, 4071, 8857, 13, 669, 467, 838, 246, 4235, 642, 90, 162, 238, 381, 12, 316, 32, 1247, 13, 772, 183, 80, 467, 173, 965, 9, 381, 223, 467, 903, 173, 105, 673, 1, 18251, 106948, 5903, 3083, 161, 121, 109, 14, 1849, 467, 32, 1880, 13, 26, 98, 31, 4127, 5377, 663, 1123, 4011, 13480, 1156, 5840, 2766, 56595, 6133, 2776, 3607, 3963, 298, 8857, 120, 478, 268, 10030, 310, 467, 2251, 3288, 361, 7521, 8857, 1291, 2376, 4071, 13, 913, 21, 2, 4607, 1941, 2068, 298, 8857, 120, 5809, 2357, 27134, 1938, 1101, 2523, 375, 5520, 5879]]\n"
     ]
    }
   ],
   "source": [
    "# Tokenization\n",
    "tokenizer = Tokenizer()\n",
    "tokenizer.fit_on_texts(preprocessed_df['processed_description'])\n",
    "X = tokenizer.texts_to_sequences(preprocessed_df['processed_description'])\n",
    "print(X[:1])\n",
    "y = preprocessed_df['Case_Type_str']"
   ]
  },
  {
   "cell_type": "code",
   "execution_count": 13,
   "metadata": {
    "id": "FuWs_a_Ed0vK"
   },
   "outputs": [],
   "source": [
    "# Padding sequences\n",
    "max_length = 200\n",
    "padded_X = pad_sequences(X, maxlen=max_length, padding='post', truncating='post')"
   ]
  },
  {
   "cell_type": "code",
   "execution_count": 19,
   "metadata": {
    "colab": {
     "base_uri": "https://localhost:8080/",
     "height": 0
    },
    "id": "r0b14U5u_uAF",
    "outputId": "122ae80f-abf8-4927-ca23-2b54a94b4056"
   },
   "outputs": [],
   "source": [
    "from gensim.models import KeyedVectors\n",
    "word2vec_model = KeyedVectors.load_word2vec_format(r\"C:\\Users\\bachi\\Desktop\\IR\\Data\\02 Legal domain word2vec models\\raw-legal\\raw-legal\\no replacements\\legalrawwoldmodel.bin\", binary=True, unicode_errors='ignore')"
   ]
  },
  {
   "cell_type": "code",
   "execution_count": 20,
   "metadata": {
    "id": "xUD5ULV1_uAF"
   },
   "outputs": [],
   "source": [
    "def create_embedding_matrix(word2vec_model, tokenizer, embedding_dim):\n",
    "    vocab_size = len(tokenizer.word_index) + 1  # Adding 1 to account for the padding token\n",
    "    embedding_matrix = np.zeros((vocab_size, embedding_dim))\n",
    "    for word, i in tokenizer.word_index.items():\n",
    "        if word in word2vec_model:\n",
    "            embedding_matrix[i] = word2vec_model[word]\n",
    "\n",
    "    return embedding_matrix\n",
    "\n",
    "embedding_dim = word2vec_model.vector_size\n",
    "embedding_matrix = create_embedding_matrix(word2vec_model, tokenizer, embedding_dim)"
   ]
  },
  {
   "cell_type": "code",
   "execution_count": 21,
   "metadata": {
    "id": "9FWu5knw_uAG"
   },
   "outputs": [],
   "source": [
    "import pickle\n",
    "\n",
    "# Save padded_sequences and embedding_matrix to disk\n",
    "np.save(r'C:\\Users\\bachi\\Desktop\\IR\\Code\\padded_X.npy', padded_X)\n",
    "with open(r'C:\\Users\\bachi\\Desktop\\IR\\Code\\embedding_matrix.pkl', 'wb') as f:\n",
    "    pickle.dump(embedding_matrix, f)"
   ]
  },
  {
   "cell_type": "code",
   "execution_count": 18,
   "metadata": {},
   "outputs": [],
   "source": [
    "y.to_csv(r'C:\\Users\\bachi\\Desktop\\IR\\Code\\y.csv', index=False)"
   ]
  },
  {
   "cell_type": "code",
   "execution_count": 22,
   "metadata": {},
   "outputs": [],
   "source": [
    "data.to_csv(r'C:\\Users\\bachi\\Desktop\\IR\\Code\\data.csv', index=True)"
   ]
  },
  {
   "cell_type": "code",
   "execution_count": null,
   "metadata": {},
   "outputs": [],
   "source": []
  }
 ],
 "metadata": {
  "accelerator": "GPU",
  "colab": {
   "gpuType": "A100",
   "machine_shape": "hm",
   "provenance": []
  },
  "kernelspec": {
   "display_name": "Python 3 (ipykernel)",
   "language": "python",
   "name": "python3"
  },
  "language_info": {
   "codemirror_mode": {
    "name": "ipython",
    "version": 3
   },
   "file_extension": ".py",
   "mimetype": "text/x-python",
   "name": "python",
   "nbconvert_exporter": "python",
   "pygments_lexer": "ipython3",
   "version": "3.9.12"
  }
 },
 "nbformat": 4,
 "nbformat_minor": 1
}
